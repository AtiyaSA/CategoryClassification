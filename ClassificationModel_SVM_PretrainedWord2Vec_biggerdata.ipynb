{
 "cells": [
  {
   "cell_type": "markdown",
   "id": "b2390424",
   "metadata": {},
   "source": [
    "## Objective is to get Category of the product when the name of product is entered"
   ]
  },
  {
   "cell_type": "code",
   "execution_count": 1,
   "id": "e5a9b482",
   "metadata": {
    "scrolled": false
   },
   "outputs": [
    {
     "name": "stderr",
     "output_type": "stream",
     "text": [
      "C:\\Users\\atiya.ahmed\\Anaconda3\\lib\\site-packages\\gensim\\similarities\\__init__.py:15: UserWarning: The gensim.similarities.levenshtein submodule is disabled, because the optional Levenshtein package <https://pypi.org/project/python-Levenshtein/> is unavailable. Install Levenhstein (e.g. `pip install python-Levenshtein`) to suppress this warning.\n",
      "  warnings.warn(msg)\n"
     ]
    }
   ],
   "source": [
    "# Importing Packages\n",
    "\n",
    "import numpy as np \n",
    "import pandas as pd \n",
    "import nltk\n",
    "from string import punctuation\n",
    "from nltk.corpus import stopwords\n",
    "from nltk import word_tokenize\n",
    "import gensim\n",
    "import string\n",
    "import re\n",
    "from sklearn.model_selection import train_test_split\n",
    "from sklearn.metrics import accuracy_score, confusion_matrix, precision_score, recall_score, f1_score\n",
    "from sklearn import preprocessing\n",
    "from sklearn import svm\n",
    "from sklearn.model_selection import GridSearchCV\n",
    "from sklearn.metrics import classification_report\n",
    "#from sklearn.naive_bayes import MultinomialNB\n"
   ]
  },
  {
   "cell_type": "markdown",
   "id": "1ab4797e",
   "metadata": {},
   "source": [
    "## Data Preprocessing"
   ]
  },
  {
   "cell_type": "code",
   "execution_count": 2,
   "id": "ab50685e",
   "metadata": {},
   "outputs": [],
   "source": [
    "# Reading the dataset file\n",
    "df = pd.read_csv('Categorical_Data2.csv')"
   ]
  },
  {
   "cell_type": "code",
   "execution_count": 3,
   "id": "aa1ac68c",
   "metadata": {
    "scrolled": true
   },
   "outputs": [
    {
     "data": {
      "text/html": [
       "<div>\n",
       "<style scoped>\n",
       "    .dataframe tbody tr th:only-of-type {\n",
       "        vertical-align: middle;\n",
       "    }\n",
       "\n",
       "    .dataframe tbody tr th {\n",
       "        vertical-align: top;\n",
       "    }\n",
       "\n",
       "    .dataframe thead th {\n",
       "        text-align: right;\n",
       "    }\n",
       "</style>\n",
       "<table border=\"1\" class=\"dataframe\">\n",
       "  <thead>\n",
       "    <tr style=\"text-align: right;\">\n",
       "      <th></th>\n",
       "      <th>Unnamed: 0</th>\n",
       "      <th>Product name</th>\n",
       "      <th>Category</th>\n",
       "    </tr>\n",
       "  </thead>\n",
       "  <tbody>\n",
       "    <tr>\n",
       "      <th>0</th>\n",
       "      <td>0</td>\n",
       "      <td>HP 14 11th Gen Intel Core i5 Processor 14-inch...</td>\n",
       "      <td>Laptops</td>\n",
       "    </tr>\n",
       "    <tr>\n",
       "      <th>1</th>\n",
       "      <td>1</td>\n",
       "      <td>Dell Vostro 3400 14\" (35.56 cms) FHD Anti Glar...</td>\n",
       "      <td>Laptops</td>\n",
       "    </tr>\n",
       "    <tr>\n",
       "      <th>2</th>\n",
       "      <td>2</td>\n",
       "      <td>HP 15 (2021) Thin &amp; Light Ryzen 3-3250 Laptop,...</td>\n",
       "      <td>Laptops</td>\n",
       "    </tr>\n",
       "    <tr>\n",
       "      <th>3</th>\n",
       "      <td>3</td>\n",
       "      <td>HP 15 AMD Athlon 15.6\" (39.62cms) HD Laptop (S...</td>\n",
       "      <td>Laptops</td>\n",
       "    </tr>\n",
       "    <tr>\n",
       "      <th>4</th>\n",
       "      <td>4</td>\n",
       "      <td>ASUS VivoBook 15 (2020), 39.6 cm HD, Dual Core...</td>\n",
       "      <td>Laptops</td>\n",
       "    </tr>\n",
       "    <tr>\n",
       "      <th>...</th>\n",
       "      <td>...</td>\n",
       "      <td>...</td>\n",
       "      <td>...</td>\n",
       "    </tr>\n",
       "    <tr>\n",
       "      <th>2830</th>\n",
       "      <td>3064</td>\n",
       "      <td>888 Combo of Rose-Lavender Camphor Cone 65 Gra...</td>\n",
       "      <td>Air freshners</td>\n",
       "    </tr>\n",
       "    <tr>\n",
       "      <th>2831</th>\n",
       "      <td>3065</td>\n",
       "      <td>Lovin Air Freshener - 234 ml (Wild Romance)</td>\n",
       "      <td>Air freshners</td>\n",
       "    </tr>\n",
       "    <tr>\n",
       "      <th>2832</th>\n",
       "      <td>3066</td>\n",
       "      <td>ElectroCloud Car Air Freshener Vent Clip, Esse...</td>\n",
       "      <td>Air freshners</td>\n",
       "    </tr>\n",
       "    <tr>\n",
       "      <th>2833</th>\n",
       "      <td>3067</td>\n",
       "      <td>Sugandhim Rose, Champa &amp; Chameli Air Freshener...</td>\n",
       "      <td>Air freshners</td>\n",
       "    </tr>\n",
       "    <tr>\n",
       "      <th>2834</th>\n",
       "      <td>3070</td>\n",
       "      <td>Pure Source India Room and Car Freshener Rose ...</td>\n",
       "      <td>Air freshners</td>\n",
       "    </tr>\n",
       "  </tbody>\n",
       "</table>\n",
       "<p>2835 rows × 3 columns</p>\n",
       "</div>"
      ],
      "text/plain": [
       "      Unnamed: 0                                       Product name  \\\n",
       "0              0  HP 14 11th Gen Intel Core i5 Processor 14-inch...   \n",
       "1              1  Dell Vostro 3400 14\" (35.56 cms) FHD Anti Glar...   \n",
       "2              2  HP 15 (2021) Thin & Light Ryzen 3-3250 Laptop,...   \n",
       "3              3  HP 15 AMD Athlon 15.6\" (39.62cms) HD Laptop (S...   \n",
       "4              4  ASUS VivoBook 15 (2020), 39.6 cm HD, Dual Core...   \n",
       "...          ...                                                ...   \n",
       "2830        3064  888 Combo of Rose-Lavender Camphor Cone 65 Gra...   \n",
       "2831        3065        Lovin Air Freshener - 234 ml (Wild Romance)   \n",
       "2832        3066  ElectroCloud Car Air Freshener Vent Clip, Esse...   \n",
       "2833        3067  Sugandhim Rose, Champa & Chameli Air Freshener...   \n",
       "2834        3070  Pure Source India Room and Car Freshener Rose ...   \n",
       "\n",
       "           Category  \n",
       "0           Laptops  \n",
       "1           Laptops  \n",
       "2           Laptops  \n",
       "3           Laptops  \n",
       "4           Laptops  \n",
       "...             ...  \n",
       "2830  Air freshners  \n",
       "2831  Air freshners  \n",
       "2832  Air freshners  \n",
       "2833  Air freshners  \n",
       "2834  Air freshners  \n",
       "\n",
       "[2835 rows x 3 columns]"
      ]
     },
     "execution_count": 3,
     "metadata": {},
     "output_type": "execute_result"
    }
   ],
   "source": [
    "#display csv file\n",
    "df"
   ]
  },
  {
   "cell_type": "code",
   "execution_count": 4,
   "id": "5c0d23e3",
   "metadata": {},
   "outputs": [
    {
     "data": {
      "text/html": [
       "<div>\n",
       "<style scoped>\n",
       "    .dataframe tbody tr th:only-of-type {\n",
       "        vertical-align: middle;\n",
       "    }\n",
       "\n",
       "    .dataframe tbody tr th {\n",
       "        vertical-align: top;\n",
       "    }\n",
       "\n",
       "    .dataframe thead th {\n",
       "        text-align: right;\n",
       "    }\n",
       "</style>\n",
       "<table border=\"1\" class=\"dataframe\">\n",
       "  <thead>\n",
       "    <tr style=\"text-align: right;\">\n",
       "      <th></th>\n",
       "      <th>Product name</th>\n",
       "      <th>Category</th>\n",
       "    </tr>\n",
       "  </thead>\n",
       "  <tbody>\n",
       "    <tr>\n",
       "      <th>0</th>\n",
       "      <td>HP 14 11th Gen Intel Core i5 Processor 14-inch...</td>\n",
       "      <td>Laptops</td>\n",
       "    </tr>\n",
       "    <tr>\n",
       "      <th>1</th>\n",
       "      <td>Dell Vostro 3400 14\" (35.56 cms) FHD Anti Glar...</td>\n",
       "      <td>Laptops</td>\n",
       "    </tr>\n",
       "    <tr>\n",
       "      <th>2</th>\n",
       "      <td>HP 15 (2021) Thin &amp; Light Ryzen 3-3250 Laptop,...</td>\n",
       "      <td>Laptops</td>\n",
       "    </tr>\n",
       "    <tr>\n",
       "      <th>3</th>\n",
       "      <td>HP 15 AMD Athlon 15.6\" (39.62cms) HD Laptop (S...</td>\n",
       "      <td>Laptops</td>\n",
       "    </tr>\n",
       "    <tr>\n",
       "      <th>4</th>\n",
       "      <td>ASUS VivoBook 15 (2020), 39.6 cm HD, Dual Core...</td>\n",
       "      <td>Laptops</td>\n",
       "    </tr>\n",
       "    <tr>\n",
       "      <th>...</th>\n",
       "      <td>...</td>\n",
       "      <td>...</td>\n",
       "    </tr>\n",
       "    <tr>\n",
       "      <th>2830</th>\n",
       "      <td>888 Combo of Rose-Lavender Camphor Cone 65 Gra...</td>\n",
       "      <td>Air freshners</td>\n",
       "    </tr>\n",
       "    <tr>\n",
       "      <th>2831</th>\n",
       "      <td>Lovin Air Freshener - 234 ml (Wild Romance)</td>\n",
       "      <td>Air freshners</td>\n",
       "    </tr>\n",
       "    <tr>\n",
       "      <th>2832</th>\n",
       "      <td>ElectroCloud Car Air Freshener Vent Clip, Esse...</td>\n",
       "      <td>Air freshners</td>\n",
       "    </tr>\n",
       "    <tr>\n",
       "      <th>2833</th>\n",
       "      <td>Sugandhim Rose, Champa &amp; Chameli Air Freshener...</td>\n",
       "      <td>Air freshners</td>\n",
       "    </tr>\n",
       "    <tr>\n",
       "      <th>2834</th>\n",
       "      <td>Pure Source India Room and Car Freshener Rose ...</td>\n",
       "      <td>Air freshners</td>\n",
       "    </tr>\n",
       "  </tbody>\n",
       "</table>\n",
       "<p>2835 rows × 2 columns</p>\n",
       "</div>"
      ],
      "text/plain": [
       "                                           Product name       Category\n",
       "0     HP 14 11th Gen Intel Core i5 Processor 14-inch...        Laptops\n",
       "1     Dell Vostro 3400 14\" (35.56 cms) FHD Anti Glar...        Laptops\n",
       "2     HP 15 (2021) Thin & Light Ryzen 3-3250 Laptop,...        Laptops\n",
       "3     HP 15 AMD Athlon 15.6\" (39.62cms) HD Laptop (S...        Laptops\n",
       "4     ASUS VivoBook 15 (2020), 39.6 cm HD, Dual Core...        Laptops\n",
       "...                                                 ...            ...\n",
       "2830  888 Combo of Rose-Lavender Camphor Cone 65 Gra...  Air freshners\n",
       "2831        Lovin Air Freshener - 234 ml (Wild Romance)  Air freshners\n",
       "2832  ElectroCloud Car Air Freshener Vent Clip, Esse...  Air freshners\n",
       "2833  Sugandhim Rose, Champa & Chameli Air Freshener...  Air freshners\n",
       "2834  Pure Source India Room and Car Freshener Rose ...  Air freshners\n",
       "\n",
       "[2835 rows x 2 columns]"
      ]
     },
     "execution_count": 4,
     "metadata": {},
     "output_type": "execute_result"
    }
   ],
   "source": [
    "#getting the required data from the dataset\n",
    "df = df[['Product name', 'Category']]\n",
    "df"
   ]
  },
  {
   "cell_type": "code",
   "execution_count": 5,
   "id": "f1f1b145",
   "metadata": {},
   "outputs": [
    {
     "data": {
      "text/html": [
       "<div>\n",
       "<style scoped>\n",
       "    .dataframe tbody tr th:only-of-type {\n",
       "        vertical-align: middle;\n",
       "    }\n",
       "\n",
       "    .dataframe tbody tr th {\n",
       "        vertical-align: top;\n",
       "    }\n",
       "\n",
       "    .dataframe thead th {\n",
       "        text-align: right;\n",
       "    }\n",
       "</style>\n",
       "<table border=\"1\" class=\"dataframe\">\n",
       "  <thead>\n",
       "    <tr style=\"text-align: right;\">\n",
       "      <th></th>\n",
       "      <th>Product name</th>\n",
       "      <th>Category</th>\n",
       "    </tr>\n",
       "  </thead>\n",
       "  <tbody>\n",
       "    <tr>\n",
       "      <th>1149</th>\n",
       "      <td>Lenovo IdeaCentre A340 23.8” FHD IPS All-in-On...</td>\n",
       "      <td>All in one PC</td>\n",
       "    </tr>\n",
       "    <tr>\n",
       "      <th>1150</th>\n",
       "      <td>Lenovo IdeaCentre AIO 330 19.5\" All-in-One Des...</td>\n",
       "      <td>All in one PC</td>\n",
       "    </tr>\n",
       "    <tr>\n",
       "      <th>1151</th>\n",
       "      <td>HP All in One PC 20.7-inch(52.6 cm) FHD with A...</td>\n",
       "      <td>All in one PC</td>\n",
       "    </tr>\n",
       "    <tr>\n",
       "      <th>1152</th>\n",
       "      <td>Lenovo IdeaCentre AIO 330 19.5-inch All-in-One...</td>\n",
       "      <td>All in one PC</td>\n",
       "    </tr>\n",
       "    <tr>\n",
       "      <th>1153</th>\n",
       "      <td>ASUS Vivo AiO V222, 21.5-inch (54.61 cms) FHD,...</td>\n",
       "      <td>All in one PC</td>\n",
       "    </tr>\n",
       "    <tr>\n",
       "      <th>...</th>\n",
       "      <td>...</td>\n",
       "      <td>...</td>\n",
       "    </tr>\n",
       "    <tr>\n",
       "      <th>1430</th>\n",
       "      <td>Radiant Electro 17 inch All in One Desktop Set...</td>\n",
       "      <td>All in one PC</td>\n",
       "    </tr>\n",
       "    <tr>\n",
       "      <th>1431</th>\n",
       "      <td>ASUS AIO / i3-10110U / 0 / HD Cam / 4GB / 1TB ...</td>\n",
       "      <td>All in one PC</td>\n",
       "    </tr>\n",
       "    <tr>\n",
       "      <th>1432</th>\n",
       "      <td>HP HP 570-p053in 19.45-inch All-in-One Desktop...</td>\n",
       "      <td>All in one PC</td>\n",
       "    </tr>\n",
       "    <tr>\n",
       "      <th>1433</th>\n",
       "      <td>Radiant Electro 17 inch All in One Desktop Set...</td>\n",
       "      <td>All in one PC</td>\n",
       "    </tr>\n",
       "    <tr>\n",
       "      <th>1434</th>\n",
       "      <td>Radiant Electro 24 inch All in One Gamming Com...</td>\n",
       "      <td>All in one PC</td>\n",
       "    </tr>\n",
       "  </tbody>\n",
       "</table>\n",
       "<p>286 rows × 2 columns</p>\n",
       "</div>"
      ],
      "text/plain": [
       "                                           Product name       Category\n",
       "1149  Lenovo IdeaCentre A340 23.8” FHD IPS All-in-On...  All in one PC\n",
       "1150  Lenovo IdeaCentre AIO 330 19.5\" All-in-One Des...  All in one PC\n",
       "1151  HP All in One PC 20.7-inch(52.6 cm) FHD with A...  All in one PC\n",
       "1152  Lenovo IdeaCentre AIO 330 19.5-inch All-in-One...  All in one PC\n",
       "1153  ASUS Vivo AiO V222, 21.5-inch (54.61 cms) FHD,...  All in one PC\n",
       "...                                                 ...            ...\n",
       "1430  Radiant Electro 17 inch All in One Desktop Set...  All in one PC\n",
       "1431  ASUS AIO / i3-10110U / 0 / HD Cam / 4GB / 1TB ...  All in one PC\n",
       "1432  HP HP 570-p053in 19.45-inch All-in-One Desktop...  All in one PC\n",
       "1433  Radiant Electro 17 inch All in One Desktop Set...  All in one PC\n",
       "1434  Radiant Electro 24 inch All in One Gamming Com...  All in one PC\n",
       "\n",
       "[286 rows x 2 columns]"
      ]
     },
     "execution_count": 5,
     "metadata": {},
     "output_type": "execute_result"
    }
   ],
   "source": [
    "df[df['Category'] == 'All in one PC']"
   ]
  },
  {
   "cell_type": "code",
   "execution_count": 6,
   "id": "afdee881",
   "metadata": {},
   "outputs": [
    {
     "data": {
      "text/html": [
       "<div>\n",
       "<style scoped>\n",
       "    .dataframe tbody tr th:only-of-type {\n",
       "        vertical-align: middle;\n",
       "    }\n",
       "\n",
       "    .dataframe tbody tr th {\n",
       "        vertical-align: top;\n",
       "    }\n",
       "\n",
       "    .dataframe thead th {\n",
       "        text-align: right;\n",
       "    }\n",
       "</style>\n",
       "<table border=\"1\" class=\"dataframe\">\n",
       "  <thead>\n",
       "    <tr style=\"text-align: right;\">\n",
       "      <th></th>\n",
       "      <th>Product name</th>\n",
       "      <th>Category</th>\n",
       "    </tr>\n",
       "  </thead>\n",
       "  <tbody>\n",
       "    <tr>\n",
       "      <th>856</th>\n",
       "      <td>Lenovo IdeaCentre A340 23.8-inch FHD All-in-On...</td>\n",
       "      <td>Desktops</td>\n",
       "    </tr>\n",
       "    <tr>\n",
       "      <th>857</th>\n",
       "      <td>Lenovo IdeaCentre 3 Desktop (AMD Athlon Silver...</td>\n",
       "      <td>Desktops</td>\n",
       "    </tr>\n",
       "    <tr>\n",
       "      <th>858</th>\n",
       "      <td>(Renewed) Dell Optiplex Business Class Perform...</td>\n",
       "      <td>Desktops</td>\n",
       "    </tr>\n",
       "    <tr>\n",
       "      <th>859</th>\n",
       "      <td>(Renewed) Dell Optiplex 3020 17-inch (43.18 cm...</td>\n",
       "      <td>Desktops</td>\n",
       "    </tr>\n",
       "    <tr>\n",
       "      <th>860</th>\n",
       "      <td>(Renewed) Dell Optiplex 380 17 inch (43.18 cms...</td>\n",
       "      <td>Desktops</td>\n",
       "    </tr>\n",
       "    <tr>\n",
       "      <th>...</th>\n",
       "      <td>...</td>\n",
       "      <td>...</td>\n",
       "    </tr>\n",
       "    <tr>\n",
       "      <th>1144</th>\n",
       "      <td>Zebronics Desktop Computer (Intel Core i7-860 ...</td>\n",
       "      <td>Desktops</td>\n",
       "    </tr>\n",
       "    <tr>\n",
       "      <th>1145</th>\n",
       "      <td>(Renewed) Dell Optiplex Business Class Perform...</td>\n",
       "      <td>Desktops</td>\n",
       "    </tr>\n",
       "    <tr>\n",
       "      <th>1146</th>\n",
       "      <td>TravisLappy Desktop PC CPU Computer CORE I3 32...</td>\n",
       "      <td>Desktops</td>\n",
       "    </tr>\n",
       "    <tr>\n",
       "      <th>1147</th>\n",
       "      <td>Capital Gadgets Desktop Computer Intel Core (i...</td>\n",
       "      <td>Desktops</td>\n",
       "    </tr>\n",
       "    <tr>\n",
       "      <th>1148</th>\n",
       "      <td>Desktop Computer with Core i3 4th Gen CPU/H81 ...</td>\n",
       "      <td>Desktops</td>\n",
       "    </tr>\n",
       "  </tbody>\n",
       "</table>\n",
       "<p>293 rows × 2 columns</p>\n",
       "</div>"
      ],
      "text/plain": [
       "                                           Product name  Category\n",
       "856   Lenovo IdeaCentre A340 23.8-inch FHD All-in-On...  Desktops\n",
       "857   Lenovo IdeaCentre 3 Desktop (AMD Athlon Silver...  Desktops\n",
       "858   (Renewed) Dell Optiplex Business Class Perform...  Desktops\n",
       "859   (Renewed) Dell Optiplex 3020 17-inch (43.18 cm...  Desktops\n",
       "860   (Renewed) Dell Optiplex 380 17 inch (43.18 cms...  Desktops\n",
       "...                                                 ...       ...\n",
       "1144  Zebronics Desktop Computer (Intel Core i7-860 ...  Desktops\n",
       "1145  (Renewed) Dell Optiplex Business Class Perform...  Desktops\n",
       "1146  TravisLappy Desktop PC CPU Computer CORE I3 32...  Desktops\n",
       "1147  Capital Gadgets Desktop Computer Intel Core (i...  Desktops\n",
       "1148  Desktop Computer with Core i3 4th Gen CPU/H81 ...  Desktops\n",
       "\n",
       "[293 rows x 2 columns]"
      ]
     },
     "execution_count": 6,
     "metadata": {},
     "output_type": "execute_result"
    }
   ],
   "source": [
    "df[df['Category'] == 'Desktops']"
   ]
  },
  {
   "cell_type": "code",
   "execution_count": 7,
   "id": "b9dfd22a",
   "metadata": {},
   "outputs": [],
   "source": [
    "df[df['Category'] == 'Mobile toilets'].to_csv('Mobile.csv', index = False)"
   ]
  },
  {
   "cell_type": "code",
   "execution_count": 8,
   "id": "5e59b45e",
   "metadata": {
    "scrolled": true
   },
   "outputs": [
    {
     "data": {
      "text/plain": [
       "array(['Laptops', 'Phones', 'Printers', 'Desktops', 'All in one PC',\n",
       "       'Adhesives', 'Mobile toilets', 'Art and craft', 'Smart TV',\n",
       "       'Air freshners'], dtype=object)"
      ]
     },
     "execution_count": 8,
     "metadata": {},
     "output_type": "execute_result"
    }
   ],
   "source": [
    "df.Category.unique()"
   ]
  },
  {
   "cell_type": "code",
   "execution_count": 9,
   "id": "e832e784",
   "metadata": {},
   "outputs": [
    {
     "data": {
      "text/plain": [
       "Product name    0\n",
       "Category        0\n",
       "dtype: int64"
      ]
     },
     "execution_count": 9,
     "metadata": {},
     "output_type": "execute_result"
    }
   ],
   "source": [
    "# Checking for null values\n",
    "df.isnull().sum()"
   ]
  },
  {
   "cell_type": "code",
   "execution_count": 10,
   "id": "8b699935",
   "metadata": {},
   "outputs": [
    {
     "name": "stderr",
     "output_type": "stream",
     "text": [
      "<ipython-input-10-5a7eb0907f2e>:3: SettingWithCopyWarning: \n",
      "A value is trying to be set on a copy of a slice from a DataFrame.\n",
      "Try using .loc[row_indexer,col_indexer] = value instead\n",
      "\n",
      "See the caveats in the documentation: https://pandas.pydata.org/pandas-docs/stable/user_guide/indexing.html#returning-a-view-versus-a-copy\n",
      "  df['Category'] = label_encoder.fit_transform(df['Category'])\n"
     ]
    },
    {
     "data": {
      "text/html": [
       "<div>\n",
       "<style scoped>\n",
       "    .dataframe tbody tr th:only-of-type {\n",
       "        vertical-align: middle;\n",
       "    }\n",
       "\n",
       "    .dataframe tbody tr th {\n",
       "        vertical-align: top;\n",
       "    }\n",
       "\n",
       "    .dataframe thead th {\n",
       "        text-align: right;\n",
       "    }\n",
       "</style>\n",
       "<table border=\"1\" class=\"dataframe\">\n",
       "  <thead>\n",
       "    <tr style=\"text-align: right;\">\n",
       "      <th></th>\n",
       "      <th>Product name</th>\n",
       "      <th>Category</th>\n",
       "    </tr>\n",
       "  </thead>\n",
       "  <tbody>\n",
       "    <tr>\n",
       "      <th>0</th>\n",
       "      <td>HP 14 11th Gen Intel Core i5 Processor 14-inch...</td>\n",
       "      <td>5</td>\n",
       "    </tr>\n",
       "    <tr>\n",
       "      <th>1</th>\n",
       "      <td>Dell Vostro 3400 14\" (35.56 cms) FHD Anti Glar...</td>\n",
       "      <td>5</td>\n",
       "    </tr>\n",
       "    <tr>\n",
       "      <th>2</th>\n",
       "      <td>HP 15 (2021) Thin &amp; Light Ryzen 3-3250 Laptop,...</td>\n",
       "      <td>5</td>\n",
       "    </tr>\n",
       "    <tr>\n",
       "      <th>3</th>\n",
       "      <td>HP 15 AMD Athlon 15.6\" (39.62cms) HD Laptop (S...</td>\n",
       "      <td>5</td>\n",
       "    </tr>\n",
       "    <tr>\n",
       "      <th>4</th>\n",
       "      <td>ASUS VivoBook 15 (2020), 39.6 cm HD, Dual Core...</td>\n",
       "      <td>5</td>\n",
       "    </tr>\n",
       "    <tr>\n",
       "      <th>...</th>\n",
       "      <td>...</td>\n",
       "      <td>...</td>\n",
       "    </tr>\n",
       "    <tr>\n",
       "      <th>2830</th>\n",
       "      <td>888 Combo of Rose-Lavender Camphor Cone 65 Gra...</td>\n",
       "      <td>1</td>\n",
       "    </tr>\n",
       "    <tr>\n",
       "      <th>2831</th>\n",
       "      <td>Lovin Air Freshener - 234 ml (Wild Romance)</td>\n",
       "      <td>1</td>\n",
       "    </tr>\n",
       "    <tr>\n",
       "      <th>2832</th>\n",
       "      <td>ElectroCloud Car Air Freshener Vent Clip, Esse...</td>\n",
       "      <td>1</td>\n",
       "    </tr>\n",
       "    <tr>\n",
       "      <th>2833</th>\n",
       "      <td>Sugandhim Rose, Champa &amp; Chameli Air Freshener...</td>\n",
       "      <td>1</td>\n",
       "    </tr>\n",
       "    <tr>\n",
       "      <th>2834</th>\n",
       "      <td>Pure Source India Room and Car Freshener Rose ...</td>\n",
       "      <td>1</td>\n",
       "    </tr>\n",
       "  </tbody>\n",
       "</table>\n",
       "<p>2835 rows × 2 columns</p>\n",
       "</div>"
      ],
      "text/plain": [
       "                                           Product name  Category\n",
       "0     HP 14 11th Gen Intel Core i5 Processor 14-inch...         5\n",
       "1     Dell Vostro 3400 14\" (35.56 cms) FHD Anti Glar...         5\n",
       "2     HP 15 (2021) Thin & Light Ryzen 3-3250 Laptop,...         5\n",
       "3     HP 15 AMD Athlon 15.6\" (39.62cms) HD Laptop (S...         5\n",
       "4     ASUS VivoBook 15 (2020), 39.6 cm HD, Dual Core...         5\n",
       "...                                                 ...       ...\n",
       "2830  888 Combo of Rose-Lavender Camphor Cone 65 Gra...         1\n",
       "2831        Lovin Air Freshener - 234 ml (Wild Romance)         1\n",
       "2832  ElectroCloud Car Air Freshener Vent Clip, Esse...         1\n",
       "2833  Sugandhim Rose, Champa & Chameli Air Freshener...         1\n",
       "2834  Pure Source India Room and Car Freshener Rose ...         1\n",
       "\n",
       "[2835 rows x 2 columns]"
      ]
     },
     "execution_count": 10,
     "metadata": {},
     "output_type": "execute_result"
    }
   ],
   "source": [
    "# converting the categorical data to numerical data for further modeling\n",
    "label_encoder = preprocessing.LabelEncoder()\n",
    "df['Category'] = label_encoder.fit_transform(df['Category']) \n",
    "df"
   ]
  },
  {
   "cell_type": "code",
   "execution_count": 11,
   "id": "5df1b627",
   "metadata": {},
   "outputs": [
    {
     "data": {
      "text/plain": [
       "6    301\n",
       "7    298\n",
       "4    293\n",
       "0    286\n",
       "2    286\n",
       "9    285\n",
       "8    280\n",
       "5    278\n",
       "3    268\n",
       "1    260\n",
       "Name: Category, dtype: int64"
      ]
     },
     "execution_count": 11,
     "metadata": {},
     "output_type": "execute_result"
    }
   ],
   "source": [
    "# number of categories and their frequencies\n",
    "df['Category'].value_counts()"
   ]
  },
  {
   "cell_type": "code",
   "execution_count": 12,
   "id": "32b1cb88",
   "metadata": {},
   "outputs": [],
   "source": [
    "# dropping duplicate records, if any\n",
    "df = df.drop_duplicates()\n",
    "df = df.reset_index()"
   ]
  },
  {
   "cell_type": "code",
   "execution_count": 13,
   "id": "ba597330",
   "metadata": {},
   "outputs": [
    {
     "data": {
      "text/html": [
       "<div>\n",
       "<style scoped>\n",
       "    .dataframe tbody tr th:only-of-type {\n",
       "        vertical-align: middle;\n",
       "    }\n",
       "\n",
       "    .dataframe tbody tr th {\n",
       "        vertical-align: top;\n",
       "    }\n",
       "\n",
       "    .dataframe thead th {\n",
       "        text-align: right;\n",
       "    }\n",
       "</style>\n",
       "<table border=\"1\" class=\"dataframe\">\n",
       "  <thead>\n",
       "    <tr style=\"text-align: right;\">\n",
       "      <th></th>\n",
       "      <th>Product name</th>\n",
       "      <th>Category</th>\n",
       "    </tr>\n",
       "  </thead>\n",
       "  <tbody>\n",
       "    <tr>\n",
       "      <th>0</th>\n",
       "      <td>HP 14 11th Gen Intel Core i5 Processor 14-inch...</td>\n",
       "      <td>5</td>\n",
       "    </tr>\n",
       "    <tr>\n",
       "      <th>1</th>\n",
       "      <td>Dell Vostro 3400 14\" (35.56 cms) FHD Anti Glar...</td>\n",
       "      <td>5</td>\n",
       "    </tr>\n",
       "    <tr>\n",
       "      <th>2</th>\n",
       "      <td>HP 15 (2021) Thin &amp; Light Ryzen 3-3250 Laptop,...</td>\n",
       "      <td>5</td>\n",
       "    </tr>\n",
       "    <tr>\n",
       "      <th>3</th>\n",
       "      <td>HP 15 AMD Athlon 15.6\" (39.62cms) HD Laptop (S...</td>\n",
       "      <td>5</td>\n",
       "    </tr>\n",
       "    <tr>\n",
       "      <th>4</th>\n",
       "      <td>ASUS VivoBook 15 (2020), 39.6 cm HD, Dual Core...</td>\n",
       "      <td>5</td>\n",
       "    </tr>\n",
       "    <tr>\n",
       "      <th>...</th>\n",
       "      <td>...</td>\n",
       "      <td>...</td>\n",
       "    </tr>\n",
       "    <tr>\n",
       "      <th>2830</th>\n",
       "      <td>888 Combo of Rose-Lavender Camphor Cone 65 Gra...</td>\n",
       "      <td>1</td>\n",
       "    </tr>\n",
       "    <tr>\n",
       "      <th>2831</th>\n",
       "      <td>Lovin Air Freshener - 234 ml (Wild Romance)</td>\n",
       "      <td>1</td>\n",
       "    </tr>\n",
       "    <tr>\n",
       "      <th>2832</th>\n",
       "      <td>ElectroCloud Car Air Freshener Vent Clip, Esse...</td>\n",
       "      <td>1</td>\n",
       "    </tr>\n",
       "    <tr>\n",
       "      <th>2833</th>\n",
       "      <td>Sugandhim Rose, Champa &amp; Chameli Air Freshener...</td>\n",
       "      <td>1</td>\n",
       "    </tr>\n",
       "    <tr>\n",
       "      <th>2834</th>\n",
       "      <td>Pure Source India Room and Car Freshener Rose ...</td>\n",
       "      <td>1</td>\n",
       "    </tr>\n",
       "  </tbody>\n",
       "</table>\n",
       "<p>2835 rows × 2 columns</p>\n",
       "</div>"
      ],
      "text/plain": [
       "                                           Product name  Category\n",
       "0     HP 14 11th Gen Intel Core i5 Processor 14-inch...         5\n",
       "1     Dell Vostro 3400 14\" (35.56 cms) FHD Anti Glar...         5\n",
       "2     HP 15 (2021) Thin & Light Ryzen 3-3250 Laptop,...         5\n",
       "3     HP 15 AMD Athlon 15.6\" (39.62cms) HD Laptop (S...         5\n",
       "4     ASUS VivoBook 15 (2020), 39.6 cm HD, Dual Core...         5\n",
       "...                                                 ...       ...\n",
       "2830  888 Combo of Rose-Lavender Camphor Cone 65 Gra...         1\n",
       "2831        Lovin Air Freshener - 234 ml (Wild Romance)         1\n",
       "2832  ElectroCloud Car Air Freshener Vent Clip, Esse...         1\n",
       "2833  Sugandhim Rose, Champa & Chameli Air Freshener...         1\n",
       "2834  Pure Source India Room and Car Freshener Rose ...         1\n",
       "\n",
       "[2835 rows x 2 columns]"
      ]
     },
     "execution_count": 13,
     "metadata": {},
     "output_type": "execute_result"
    }
   ],
   "source": [
    "df.drop('index', axis =1, inplace = True)\n",
    "df"
   ]
  },
  {
   "cell_type": "code",
   "execution_count": 14,
   "id": "cae68ee1",
   "metadata": {},
   "outputs": [],
   "source": [
    "# function to get clean text from the product names\n",
    "\n",
    "def clean_txt(sent):\n",
    "    tokens = word_tokenize(re.sub('[^a-z0-9 ]',' ',sent.lower()))\n",
    "    stop_updated = stopwords.words(\"english\") + list(punctuation) + [\"...\"] + [\"would\", \"could\",\"told\",\"subject\"]\n",
    "    text = [term for term in tokens] \n",
    "    res = \" \".join(text)\n",
    "    return res"
   ]
  },
  {
   "cell_type": "code",
   "execution_count": 15,
   "id": "fc203688",
   "metadata": {},
   "outputs": [
    {
     "data": {
      "text/html": [
       "<div>\n",
       "<style scoped>\n",
       "    .dataframe tbody tr th:only-of-type {\n",
       "        vertical-align: middle;\n",
       "    }\n",
       "\n",
       "    .dataframe tbody tr th {\n",
       "        vertical-align: top;\n",
       "    }\n",
       "\n",
       "    .dataframe thead th {\n",
       "        text-align: right;\n",
       "    }\n",
       "</style>\n",
       "<table border=\"1\" class=\"dataframe\">\n",
       "  <thead>\n",
       "    <tr style=\"text-align: right;\">\n",
       "      <th></th>\n",
       "      <th>Product name</th>\n",
       "      <th>Category</th>\n",
       "      <th>cleaned_title</th>\n",
       "    </tr>\n",
       "  </thead>\n",
       "  <tbody>\n",
       "    <tr>\n",
       "      <th>0</th>\n",
       "      <td>HP 14 11th Gen Intel Core i5 Processor 14-inch...</td>\n",
       "      <td>5</td>\n",
       "      <td>hp 14 11th gen intel core i5 processor 14 inch...</td>\n",
       "    </tr>\n",
       "    <tr>\n",
       "      <th>1</th>\n",
       "      <td>Dell Vostro 3400 14\" (35.56 cms) FHD Anti Glar...</td>\n",
       "      <td>5</td>\n",
       "      <td>dell vostro 3400 14 35 56 cms fhd anti glare d...</td>\n",
       "    </tr>\n",
       "    <tr>\n",
       "      <th>2</th>\n",
       "      <td>HP 15 (2021) Thin &amp; Light Ryzen 3-3250 Laptop,...</td>\n",
       "      <td>5</td>\n",
       "      <td>hp 15 2021 thin light ryzen 3 3250 laptop 8 gb...</td>\n",
       "    </tr>\n",
       "    <tr>\n",
       "      <th>3</th>\n",
       "      <td>HP 15 AMD Athlon 15.6\" (39.62cms) HD Laptop (S...</td>\n",
       "      <td>5</td>\n",
       "      <td>hp 15 amd athlon 15 6 39 62cms hd laptop silve...</td>\n",
       "    </tr>\n",
       "    <tr>\n",
       "      <th>4</th>\n",
       "      <td>ASUS VivoBook 15 (2020), 39.6 cm HD, Dual Core...</td>\n",
       "      <td>5</td>\n",
       "      <td>asus vivobook 15 2020 39 6 cm hd dual core int...</td>\n",
       "    </tr>\n",
       "    <tr>\n",
       "      <th>...</th>\n",
       "      <td>...</td>\n",
       "      <td>...</td>\n",
       "      <td>...</td>\n",
       "    </tr>\n",
       "    <tr>\n",
       "      <th>2830</th>\n",
       "      <td>888 Combo of Rose-Lavender Camphor Cone 65 Gra...</td>\n",
       "      <td>1</td>\n",
       "      <td>888 combo of rose lavender camphor cone 65 gra...</td>\n",
       "    </tr>\n",
       "    <tr>\n",
       "      <th>2831</th>\n",
       "      <td>Lovin Air Freshener - 234 ml (Wild Romance)</td>\n",
       "      <td>1</td>\n",
       "      <td>lovin air freshener 234 ml wild romance</td>\n",
       "    </tr>\n",
       "    <tr>\n",
       "      <th>2832</th>\n",
       "      <td>ElectroCloud Car Air Freshener Vent Clip, Esse...</td>\n",
       "      <td>1</td>\n",
       "      <td>electrocloud car air freshener vent clip essen...</td>\n",
       "    </tr>\n",
       "    <tr>\n",
       "      <th>2833</th>\n",
       "      <td>Sugandhim Rose, Champa &amp; Chameli Air Freshener...</td>\n",
       "      <td>1</td>\n",
       "      <td>sugandhim rose champa chameli air freshener sp...</td>\n",
       "    </tr>\n",
       "    <tr>\n",
       "      <th>2834</th>\n",
       "      <td>Pure Source India Room and Car Freshener Rose ...</td>\n",
       "      <td>1</td>\n",
       "      <td>pure source india room and car freshener rose ...</td>\n",
       "    </tr>\n",
       "  </tbody>\n",
       "</table>\n",
       "<p>2835 rows × 3 columns</p>\n",
       "</div>"
      ],
      "text/plain": [
       "                                           Product name  Category  \\\n",
       "0     HP 14 11th Gen Intel Core i5 Processor 14-inch...         5   \n",
       "1     Dell Vostro 3400 14\" (35.56 cms) FHD Anti Glar...         5   \n",
       "2     HP 15 (2021) Thin & Light Ryzen 3-3250 Laptop,...         5   \n",
       "3     HP 15 AMD Athlon 15.6\" (39.62cms) HD Laptop (S...         5   \n",
       "4     ASUS VivoBook 15 (2020), 39.6 cm HD, Dual Core...         5   \n",
       "...                                                 ...       ...   \n",
       "2830  888 Combo of Rose-Lavender Camphor Cone 65 Gra...         1   \n",
       "2831        Lovin Air Freshener - 234 ml (Wild Romance)         1   \n",
       "2832  ElectroCloud Car Air Freshener Vent Clip, Esse...         1   \n",
       "2833  Sugandhim Rose, Champa & Chameli Air Freshener...         1   \n",
       "2834  Pure Source India Room and Car Freshener Rose ...         1   \n",
       "\n",
       "                                          cleaned_title  \n",
       "0     hp 14 11th gen intel core i5 processor 14 inch...  \n",
       "1     dell vostro 3400 14 35 56 cms fhd anti glare d...  \n",
       "2     hp 15 2021 thin light ryzen 3 3250 laptop 8 gb...  \n",
       "3     hp 15 amd athlon 15 6 39 62cms hd laptop silve...  \n",
       "4     asus vivobook 15 2020 39 6 cm hd dual core int...  \n",
       "...                                                 ...  \n",
       "2830  888 combo of rose lavender camphor cone 65 gra...  \n",
       "2831            lovin air freshener 234 ml wild romance  \n",
       "2832  electrocloud car air freshener vent clip essen...  \n",
       "2833  sugandhim rose champa chameli air freshener sp...  \n",
       "2834  pure source india room and car freshener rose ...  \n",
       "\n",
       "[2835 rows x 3 columns]"
      ]
     },
     "execution_count": 15,
     "metadata": {},
     "output_type": "execute_result"
    }
   ],
   "source": [
    "# obtaining cleaned titles from Product_Name\n",
    "df['cleaned_title'] = df['Product name'].apply(clean_txt)\n",
    "df"
   ]
  },
  {
   "cell_type": "markdown",
   "id": "1417ba28",
   "metadata": {},
   "source": [
    "## Word Embedding using Word2Vec"
   ]
  },
  {
   "cell_type": "code",
   "execution_count": 16,
   "id": "b4671535",
   "metadata": {},
   "outputs": [],
   "source": [
    "# loading Google's Pre Trainied Word2Vec Model\n",
    "\n",
    "google_model = r'GoogleNews-vectors-negative300.bin.gz' \n",
    "embeddings = gensim.models.KeyedVectors.load_word2vec_format(google_model, binary=True)"
   ]
  },
  {
   "cell_type": "code",
   "execution_count": 17,
   "id": "49a5679f",
   "metadata": {},
   "outputs": [],
   "source": [
    "# defining function to get real valued vector for each word in a record\n",
    "\n",
    "def doc_vec(sent):    \n",
    "    docs_vectors = pd.DataFrame()\n",
    "    for doc in sent:\n",
    "        temp = pd.DataFrame()\n",
    "        words = doc.split(' ')\n",
    "        for word in words:\n",
    "            try:\n",
    "                word2vec = embeddings[word]\n",
    "                temp = temp.append(pd.Series(word2vec),ignore_index=True)\n",
    "            except:\n",
    "                pass\n",
    "        doc_vector = temp.mean()\n",
    "        docs_vectors = docs_vectors.append(doc_vector,ignore_index=True)\n",
    "    return docs_vectors"
   ]
  },
  {
   "cell_type": "code",
   "execution_count": 18,
   "id": "fabe35f6",
   "metadata": {},
   "outputs": [
    {
     "data": {
      "text/html": [
       "<div>\n",
       "<style scoped>\n",
       "    .dataframe tbody tr th:only-of-type {\n",
       "        vertical-align: middle;\n",
       "    }\n",
       "\n",
       "    .dataframe tbody tr th {\n",
       "        vertical-align: top;\n",
       "    }\n",
       "\n",
       "    .dataframe thead th {\n",
       "        text-align: right;\n",
       "    }\n",
       "</style>\n",
       "<table border=\"1\" class=\"dataframe\">\n",
       "  <thead>\n",
       "    <tr style=\"text-align: right;\">\n",
       "      <th></th>\n",
       "      <th>0</th>\n",
       "      <th>1</th>\n",
       "      <th>2</th>\n",
       "      <th>3</th>\n",
       "      <th>4</th>\n",
       "      <th>5</th>\n",
       "      <th>6</th>\n",
       "      <th>7</th>\n",
       "      <th>8</th>\n",
       "      <th>9</th>\n",
       "      <th>...</th>\n",
       "      <th>290</th>\n",
       "      <th>291</th>\n",
       "      <th>292</th>\n",
       "      <th>293</th>\n",
       "      <th>294</th>\n",
       "      <th>295</th>\n",
       "      <th>296</th>\n",
       "      <th>297</th>\n",
       "      <th>298</th>\n",
       "      <th>299</th>\n",
       "    </tr>\n",
       "  </thead>\n",
       "  <tbody>\n",
       "    <tr>\n",
       "      <th>0</th>\n",
       "      <td>0.015022</td>\n",
       "      <td>-0.003364</td>\n",
       "      <td>0.039062</td>\n",
       "      <td>0.088523</td>\n",
       "      <td>-0.014122</td>\n",
       "      <td>0.050501</td>\n",
       "      <td>0.037382</td>\n",
       "      <td>-0.049869</td>\n",
       "      <td>0.091797</td>\n",
       "      <td>0.187812</td>\n",
       "      <td>...</td>\n",
       "      <td>-0.037279</td>\n",
       "      <td>0.025211</td>\n",
       "      <td>-0.060306</td>\n",
       "      <td>0.018491</td>\n",
       "      <td>0.081284</td>\n",
       "      <td>-0.059039</td>\n",
       "      <td>-0.100557</td>\n",
       "      <td>-0.039684</td>\n",
       "      <td>-0.051593</td>\n",
       "      <td>-0.010553</td>\n",
       "    </tr>\n",
       "    <tr>\n",
       "      <th>1</th>\n",
       "      <td>0.039802</td>\n",
       "      <td>0.013421</td>\n",
       "      <td>0.000775</td>\n",
       "      <td>0.089880</td>\n",
       "      <td>-0.023840</td>\n",
       "      <td>-0.004926</td>\n",
       "      <td>0.028366</td>\n",
       "      <td>-0.059628</td>\n",
       "      <td>0.093298</td>\n",
       "      <td>0.127435</td>\n",
       "      <td>...</td>\n",
       "      <td>-0.052946</td>\n",
       "      <td>0.055564</td>\n",
       "      <td>-0.065993</td>\n",
       "      <td>0.022260</td>\n",
       "      <td>0.067431</td>\n",
       "      <td>-0.072027</td>\n",
       "      <td>-0.033189</td>\n",
       "      <td>-0.075658</td>\n",
       "      <td>-0.047235</td>\n",
       "      <td>-0.014928</td>\n",
       "    </tr>\n",
       "    <tr>\n",
       "      <th>2</th>\n",
       "      <td>0.047257</td>\n",
       "      <td>0.045508</td>\n",
       "      <td>0.005518</td>\n",
       "      <td>0.008341</td>\n",
       "      <td>0.015330</td>\n",
       "      <td>0.054073</td>\n",
       "      <td>0.025216</td>\n",
       "      <td>0.017912</td>\n",
       "      <td>0.143050</td>\n",
       "      <td>0.152481</td>\n",
       "      <td>...</td>\n",
       "      <td>-0.072274</td>\n",
       "      <td>0.080656</td>\n",
       "      <td>-0.003658</td>\n",
       "      <td>0.033610</td>\n",
       "      <td>0.001034</td>\n",
       "      <td>-0.059082</td>\n",
       "      <td>-0.105155</td>\n",
       "      <td>-0.033573</td>\n",
       "      <td>-0.136719</td>\n",
       "      <td>-0.001092</td>\n",
       "    </tr>\n",
       "    <tr>\n",
       "      <th>3</th>\n",
       "      <td>0.008972</td>\n",
       "      <td>0.014025</td>\n",
       "      <td>-0.016027</td>\n",
       "      <td>0.040658</td>\n",
       "      <td>0.033532</td>\n",
       "      <td>-0.012024</td>\n",
       "      <td>-0.028756</td>\n",
       "      <td>-0.082241</td>\n",
       "      <td>0.143903</td>\n",
       "      <td>0.138711</td>\n",
       "      <td>...</td>\n",
       "      <td>-0.045175</td>\n",
       "      <td>0.024432</td>\n",
       "      <td>-0.089395</td>\n",
       "      <td>0.033146</td>\n",
       "      <td>0.023751</td>\n",
       "      <td>-0.080392</td>\n",
       "      <td>-0.084643</td>\n",
       "      <td>-0.006332</td>\n",
       "      <td>-0.078146</td>\n",
       "      <td>-0.038975</td>\n",
       "    </tr>\n",
       "    <tr>\n",
       "      <th>4</th>\n",
       "      <td>-0.025473</td>\n",
       "      <td>0.024157</td>\n",
       "      <td>-0.004316</td>\n",
       "      <td>0.042993</td>\n",
       "      <td>-0.039198</td>\n",
       "      <td>0.101257</td>\n",
       "      <td>0.045640</td>\n",
       "      <td>-0.050176</td>\n",
       "      <td>0.095210</td>\n",
       "      <td>0.127033</td>\n",
       "      <td>...</td>\n",
       "      <td>-0.064236</td>\n",
       "      <td>0.053984</td>\n",
       "      <td>-0.050099</td>\n",
       "      <td>0.071000</td>\n",
       "      <td>-0.005061</td>\n",
       "      <td>-0.044436</td>\n",
       "      <td>-0.112703</td>\n",
       "      <td>-0.059183</td>\n",
       "      <td>-0.024360</td>\n",
       "      <td>-0.021899</td>\n",
       "    </tr>\n",
       "  </tbody>\n",
       "</table>\n",
       "<p>5 rows × 300 columns</p>\n",
       "</div>"
      ],
      "text/plain": [
       "        0         1         2         3         4         5         6    \\\n",
       "0  0.015022 -0.003364  0.039062  0.088523 -0.014122  0.050501  0.037382   \n",
       "1  0.039802  0.013421  0.000775  0.089880 -0.023840 -0.004926  0.028366   \n",
       "2  0.047257  0.045508  0.005518  0.008341  0.015330  0.054073  0.025216   \n",
       "3  0.008972  0.014025 -0.016027  0.040658  0.033532 -0.012024 -0.028756   \n",
       "4 -0.025473  0.024157 -0.004316  0.042993 -0.039198  0.101257  0.045640   \n",
       "\n",
       "        7         8         9    ...       290       291       292       293  \\\n",
       "0 -0.049869  0.091797  0.187812  ... -0.037279  0.025211 -0.060306  0.018491   \n",
       "1 -0.059628  0.093298  0.127435  ... -0.052946  0.055564 -0.065993  0.022260   \n",
       "2  0.017912  0.143050  0.152481  ... -0.072274  0.080656 -0.003658  0.033610   \n",
       "3 -0.082241  0.143903  0.138711  ... -0.045175  0.024432 -0.089395  0.033146   \n",
       "4 -0.050176  0.095210  0.127033  ... -0.064236  0.053984 -0.050099  0.071000   \n",
       "\n",
       "        294       295       296       297       298       299  \n",
       "0  0.081284 -0.059039 -0.100557 -0.039684 -0.051593 -0.010553  \n",
       "1  0.067431 -0.072027 -0.033189 -0.075658 -0.047235 -0.014928  \n",
       "2  0.001034 -0.059082 -0.105155 -0.033573 -0.136719 -0.001092  \n",
       "3  0.023751 -0.080392 -0.084643 -0.006332 -0.078146 -0.038975  \n",
       "4 -0.005061 -0.044436 -0.112703 -0.059183 -0.024360 -0.021899  \n",
       "\n",
       "[5 rows x 300 columns]"
      ]
     },
     "execution_count": 18,
     "metadata": {},
     "output_type": "execute_result"
    }
   ],
   "source": [
    "# Using the UDF above to get vectors to perform modelling on\n",
    "docs_vectors = doc_vec(df['cleaned_title'])\n",
    "docs_vectors.head()"
   ]
  },
  {
   "cell_type": "code",
   "execution_count": 19,
   "id": "4e7ba94d",
   "metadata": {},
   "outputs": [
    {
     "data": {
      "text/plain": [
       "300"
      ]
     },
     "execution_count": 19,
     "metadata": {},
     "output_type": "execute_result"
    }
   ],
   "source": [
    "docs_vectors.isnull().sum().sum()"
   ]
  },
  {
   "cell_type": "code",
   "execution_count": 20,
   "id": "4726dfde",
   "metadata": {},
   "outputs": [
    {
     "data": {
      "text/plain": [
       "[1956]"
      ]
     },
     "execution_count": 20,
     "metadata": {},
     "output_type": "execute_result"
    }
   ],
   "source": [
    "nl = docs_vectors[docs_vectors[1].isnull()].index.tolist()\n",
    "nl"
   ]
  },
  {
   "cell_type": "code",
   "execution_count": 21,
   "id": "113f4646",
   "metadata": {},
   "outputs": [],
   "source": [
    "# dropping missing values from docs_vectors and corresponding category from df to maintain the same size\n",
    "docs_vectors = docs_vectors.dropna()\n",
    "df = df.drop(index = nl)"
   ]
  },
  {
   "cell_type": "code",
   "execution_count": 22,
   "id": "23f170cc",
   "metadata": {},
   "outputs": [
    {
     "data": {
      "text/plain": [
       "(2834, 300)"
      ]
     },
     "execution_count": 22,
     "metadata": {},
     "output_type": "execute_result"
    }
   ],
   "source": [
    "docs_vectors.shape"
   ]
  },
  {
   "cell_type": "markdown",
   "id": "f6cf29cf",
   "metadata": {},
   "source": [
    "## Preparing Data for modelling for data embedded using Word2Vec"
   ]
  },
  {
   "cell_type": "code",
   "execution_count": 23,
   "id": "1f3731a8",
   "metadata": {},
   "outputs": [],
   "source": [
    "#defining X and Y for modelling\n",
    "X = docs_vectors\n",
    "y = df['Category'].values"
   ]
  },
  {
   "cell_type": "code",
   "execution_count": 24,
   "id": "5b13cf29",
   "metadata": {},
   "outputs": [],
   "source": [
    "#Splitting X and Y into training set and test set\n",
    "\n",
    "X_train, X_test, y_train, y_test = train_test_split(X, y, test_size = 0.3, random_state= 2)"
   ]
  },
  {
   "cell_type": "markdown",
   "id": "75330176",
   "metadata": {},
   "source": [
    "## Using SVM Classification Model"
   ]
  },
  {
   "cell_type": "code",
   "execution_count": 25,
   "id": "1bf78e3a",
   "metadata": {},
   "outputs": [],
   "source": [
    "#Using SVM model for classification\n",
    "svc = svm.SVC(kernel='linear')\n",
    "svc.fit(X_train, y_train)\n",
    "y_pred_svc = svc.predict(X_test)\n"
   ]
  },
  {
   "cell_type": "code",
   "execution_count": 26,
   "id": "540e9009",
   "metadata": {
    "scrolled": false
   },
   "outputs": [
    {
     "data": {
      "text/plain": [
       "array([[ 84,   0,   0,   1,   0,   0,   4,   0,   0,   0],\n",
       "       [  0,  81,   0,   0,   0,   0,   1,   0,   0,   0],\n",
       "       [  0,   0,  58,   0,  20,   4,   0,   0,   0,   0],\n",
       "       [  0,   0,   0,  80,   0,   0,   0,   0,   0,   0],\n",
       "       [  0,   0,  20,   0,  53,   0,   0,   0,   0,   0],\n",
       "       [  0,   0,   0,   0,   6,  78,   0,   0,   0,   0],\n",
       "       [  7,   0,   0,   3,   1,   0,  83,   1,   0,   0],\n",
       "       [  0,   0,   0,   0,   0,   0,   0,  85,   0,   0],\n",
       "       [  1,   0,   1,   0,   0,   0,   1,   0,  76,   0],\n",
       "       [  0,   0,   0,   0,   0,   0,   0,   0,   0, 102]], dtype=int64)"
      ]
     },
     "execution_count": 26,
     "metadata": {},
     "output_type": "execute_result"
    }
   ],
   "source": [
    "confusion_matrix(y_test, y_pred_svc)"
   ]
  },
  {
   "cell_type": "code",
   "execution_count": 27,
   "id": "0f5dbcee",
   "metadata": {},
   "outputs": [
    {
     "name": "stdout",
     "output_type": "stream",
     "text": [
      "              precision    recall  f1-score   support\n",
      "\n",
      "           0       0.91      0.94      0.93        89\n",
      "           1       1.00      0.99      0.99        82\n",
      "           2       0.73      0.71      0.72        82\n",
      "           3       0.95      1.00      0.98        80\n",
      "           4       0.66      0.73      0.69        73\n",
      "           5       0.95      0.93      0.94        84\n",
      "           6       0.93      0.87      0.90        95\n",
      "           7       0.99      1.00      0.99        85\n",
      "           8       1.00      0.96      0.98        79\n",
      "           9       1.00      1.00      1.00       102\n",
      "\n",
      "    accuracy                           0.92       851\n",
      "   macro avg       0.91      0.91      0.91       851\n",
      "weighted avg       0.92      0.92      0.92       851\n",
      "\n"
     ]
    }
   ],
   "source": [
    "print(classification_report(y_test,y_pred_svc))"
   ]
  },
  {
   "cell_type": "markdown",
   "id": "a3d0b1f4",
   "metadata": {},
   "source": [
    "### Using Grid Search CV to find the best values for hyperparameters"
   ]
  },
  {
   "cell_type": "code",
   "execution_count": 28,
   "id": "947525bf",
   "metadata": {},
   "outputs": [],
   "source": [
    "# SVM Hyperparameter Tuning\n",
    "\n",
    "#setting up parameters with their possible input.\n",
    "param_grid = {'C':[0.1,1,100,1000],'kernel':['rbf','poly','sigmoid','linear'],'degree':[1,2,3,4,5,6],'gamma':['scale','auto']}\n",
    "\n",
    "#hyperparameter_tuning on basis of SVC model and scoring metric as 'accuracy'\n",
    "grid = GridSearchCV(svm.SVC(), param_grid, scoring = 'accuracy')\n",
    "\n",
    "#fiting the training data with best parameters\n",
    "grid.fit(X_train, y_train)\n",
    "\n",
    "#predicting category for the train set after tuning the hyperparameters of the model\n",
    "y_pred_grid_svm = grid.predict(X_test)"
   ]
  },
  {
   "cell_type": "code",
   "execution_count": 29,
   "id": "36600aaf",
   "metadata": {},
   "outputs": [
    {
     "name": "stdout",
     "output_type": "stream",
     "text": [
      "              precision    recall  f1-score   support\n",
      "\n",
      "           0       0.93      0.98      0.95        89\n",
      "           1       1.00      0.99      0.99        82\n",
      "           2       0.73      0.68      0.70        82\n",
      "           3       0.99      1.00      0.99        80\n",
      "           4       0.66      0.73      0.69        73\n",
      "           5       0.95      0.93      0.94        84\n",
      "           6       0.95      0.93      0.94        95\n",
      "           7       0.99      0.99      0.99        85\n",
      "           8       0.99      0.96      0.97        79\n",
      "           9       1.00      0.99      1.00       102\n",
      "\n",
      "    accuracy                           0.92       851\n",
      "   macro avg       0.92      0.92      0.92       851\n",
      "weighted avg       0.92      0.92      0.92       851\n",
      "\n"
     ]
    }
   ],
   "source": [
    "print(classification_report(y_test, y_pred_grid_svm))"
   ]
  },
  {
   "cell_type": "code",
   "execution_count": 30,
   "id": "1ee74bee",
   "metadata": {},
   "outputs": [],
   "source": [
    "# Listing names of the classifiers used and their scores\n",
    "names = ['SVC','SVC Grid Search CV']\n",
    "\n",
    "\n",
    "accuracy_scores = [accuracy_score(y_test, y_pred_svc),\n",
    "                   accuracy_score(y_test, y_pred_grid_svm)]\n",
    "\n",
    "\n",
    "precision_scores = [precision_score(y_test, y_pred_svc, average = 'macro'),\n",
    "                    precision_score(y_test, y_pred_grid_svm, average = 'macro')]\n",
    "\n",
    "recall_scores = [recall_score(y_test, y_pred_svc, average = 'macro'),\n",
    "                 recall_score(y_test, y_pred_grid_svm, average = 'macro')]\n",
    "\n",
    "f1_scores = [f1_score(y_test, y_pred_svc, average = 'macro'),\n",
    "             f1_score(y_test, y_pred_grid_svm, average = 'macro')]"
   ]
  },
  {
   "cell_type": "code",
   "execution_count": 31,
   "id": "648cdd10",
   "metadata": {
    "scrolled": false
   },
   "outputs": [
    {
     "data": {
      "text/html": [
       "<div>\n",
       "<style scoped>\n",
       "    .dataframe tbody tr th:only-of-type {\n",
       "        vertical-align: middle;\n",
       "    }\n",
       "\n",
       "    .dataframe tbody tr th {\n",
       "        vertical-align: top;\n",
       "    }\n",
       "\n",
       "    .dataframe thead th {\n",
       "        text-align: right;\n",
       "    }\n",
       "</style>\n",
       "<table border=\"1\" class=\"dataframe\">\n",
       "  <thead>\n",
       "    <tr style=\"text-align: right;\">\n",
       "      <th></th>\n",
       "      <th>Classifier</th>\n",
       "      <th>Accuracy Score</th>\n",
       "      <th>Precision Score</th>\n",
       "      <th>Recall Score</th>\n",
       "      <th>F1 Score</th>\n",
       "    </tr>\n",
       "  </thead>\n",
       "  <tbody>\n",
       "    <tr>\n",
       "      <th>0</th>\n",
       "      <td>SVC</td>\n",
       "      <td>0.916569</td>\n",
       "      <td>0.913428</td>\n",
       "      <td>0.912925</td>\n",
       "      <td>0.912769</td>\n",
       "    </tr>\n",
       "    <tr>\n",
       "      <th>1</th>\n",
       "      <td>SVC Grid Search CV</td>\n",
       "      <td>0.921269</td>\n",
       "      <td>0.917566</td>\n",
       "      <td>0.916963</td>\n",
       "      <td>0.916928</td>\n",
       "    </tr>\n",
       "  </tbody>\n",
       "</table>\n",
       "</div>"
      ],
      "text/plain": [
       "           Classifier  Accuracy Score  Precision Score  Recall Score  F1 Score\n",
       "0                 SVC        0.916569         0.913428      0.912925  0.912769\n",
       "1  SVC Grid Search CV        0.921269         0.917566      0.916963  0.916928"
      ]
     },
     "execution_count": 31,
     "metadata": {},
     "output_type": "execute_result"
    }
   ],
   "source": [
    "# Getting a dataset from the lists above to easily compare the scores of the model used\n",
    "scores_df = pd.DataFrame(zip(names, accuracy_scores, precision_scores, recall_scores, f1_scores), \n",
    "                           columns = ['Classifier', 'Accuracy Score', 'Precision Score', 'Recall Score', 'F1 Score'])\n",
    "scores_df"
   ]
  },
  {
   "cell_type": "markdown",
   "id": "4db69299",
   "metadata": {},
   "source": [
    "#### After observing the performance of the models in fixed random_state and random text splittling, we concluded that only Gaussian Naive Bayes and SVM classifiers are stable in their preformance regardless of the randomness of the test data, hence we use both the classifiers henceforth."
   ]
  },
  {
   "cell_type": "markdown",
   "id": "9d5ff018",
   "metadata": {},
   "source": [
    "   "
   ]
  },
  {
   "cell_type": "markdown",
   "id": "a599dca7",
   "metadata": {},
   "source": [
    "## Getting predicted Category of entered Product Name"
   ]
  },
  {
   "cell_type": "code",
   "execution_count": 38,
   "id": "8bf3dde6",
   "metadata": {},
   "outputs": [],
   "source": [
    "# UDF to clean the input text and get its vectorised form\n",
    "\n",
    "def vect(sent):  \n",
    "    cln = clean_txt(sent)\n",
    "    docs_vectors = pd.DataFrame()\n",
    "    docs = cln.split()\n",
    "    for doc in docs:\n",
    "        temp = pd.DataFrame()\n",
    "        try:\n",
    "            word2vec = embeddings[doc]\n",
    "            temp = temp.append(pd.Series(word2vec),ignore_index=True)\n",
    "            #print(temp)\n",
    "        except:\n",
    "            pass\n",
    "        doc_vector = temp.mean()\n",
    "        docs_vectors = docs_vectors.append(doc_vector,ignore_index=True)\n",
    "    docs_vectors = docs_vectors.fillna(method='bfill')\n",
    "    docs_vectors = docs_vectors.fillna(method='ffill')\n",
    "    #print(docs_vectors)\n",
    "    return docs_vectors"
   ]
  },
  {
   "cell_type": "code",
   "execution_count": 39,
   "id": "2ae16570",
   "metadata": {},
   "outputs": [],
   "source": [
    "# UDF to get the class with most number of occurrences in the pred array\n",
    "def most_likely(sent):\n",
    "    class_ = []\n",
    "    counter = 0\n",
    "    new = list(label_encoder.inverse_transform(sent))\n",
    "    for i in new:\n",
    "        curr_frequency = new.count(i)\n",
    "        if(curr_frequency > counter):\n",
    "            counter = curr_frequency\n",
    "            class_ = i\n",
    "    return class_ "
   ]
  },
  {
   "cell_type": "code",
   "execution_count": 42,
   "id": "17990313",
   "metadata": {
    "scrolled": true
   },
   "outputs": [
    {
     "name": "stdout",
     "output_type": "stream",
     "text": [
      "Enter title:all in one desktop\n",
      "\n",
      "Category SVM: Mobile toilets\n",
      "\n",
      "Category Grid SVM: Mobile toilets\n"
     ]
    }
   ],
   "source": [
    "#Get input from the user and sending that to UDF above\n",
    "inp = vect(input('Enter title:'))\n",
    "\n",
    "#predicting the category from user input\n",
    "pred_svm = svc.predict(inp)\n",
    "pred_svm_grid = grid.predict(inp)\n",
    "#printing the category predicted using UDF most_likely()\n",
    "print('\\nCategory SVM:', most_likely(pred_svm))\n",
    "print('\\nCategory Grid SVM:', most_likely(pred_svm_grid))"
   ]
  },
  {
   "cell_type": "code",
   "execution_count": null,
   "id": "7e6ede1e",
   "metadata": {},
   "outputs": [],
   "source": []
  }
 ],
 "metadata": {
  "kernelspec": {
   "display_name": "Python 3 (ipykernel)",
   "language": "python",
   "name": "python3"
  },
  "language_info": {
   "codemirror_mode": {
    "name": "ipython",
    "version": 3
   },
   "file_extension": ".py",
   "mimetype": "text/x-python",
   "name": "python",
   "nbconvert_exporter": "python",
   "pygments_lexer": "ipython3",
   "version": "3.9.13"
  }
 },
 "nbformat": 4,
 "nbformat_minor": 5
}
